{
 "cells": [
  {
   "cell_type": "code",
   "execution_count": 10,
   "id": "3fafaa5d-f1ec-40ab-b5ac-4fae4be12952",
   "metadata": {},
   "outputs": [
    {
     "name": "stdin",
     "output_type": "stream",
     "text": [
      "Enter the City name:  Bangalore\n",
      "Enter your API KEY:  7bdccf825b7dd119a05ac2e0afaf1aaa\n"
     ]
    },
    {
     "name": "stdout",
     "output_type": "stream",
     "text": [
      "----------Bangalore-----------\n",
      "Temperature: 25.420000000000016 C\n",
      "Humidity: 79\n",
      "Pressure: 1009\n",
      "Weather Report: broken clouds\n"
     ]
    }
   ],
   "source": [
    "import requests as rq, json\n",
    "\n",
    "BASE_URL = \"https://api.openweathermap.org/data/2.5/weather?\"\n",
    "\n",
    "CITY = input(\"Enter the City name: \")\n",
    "API = input(\"Enter your API KEY: \")\n",
    "\n",
    "URL = BASE_URL + \"q=\" + CITY + \"&appid=\" + API\n",
    "\n",
    "response = rq.get(URL)\n",
    "\n",
    "if response.status_code == 200:\n",
    "    data = response.json()\n",
    "    main = data['main']\n",
    "    temp = round(main['temp'] - 273.15, 2)\n",
    "    humi = main['humidity']\n",
    "    pressure = main['pressure']\n",
    "\n",
    "    report = data['weather']\n",
    "    \n",
    "    print(f\"{CITY:-^30}\")\n",
    "    print(f\"Temperature: {temp} C\\nHumidity: {humi}\\nPressure: {pressure}\\nWeather Report: {report[0]['description']}\")\n",
    "\n",
    "else:\n",
    "    print(f\"Error:{response.status_code} Not found\")\n",
    "    \n"
   ]
  },
  {
   "cell_type": "code",
   "execution_count": null,
   "id": "ef7b4f95-13ac-428f-b57a-55cac969b76d",
   "metadata": {},
   "outputs": [],
   "source": []
  }
 ],
 "metadata": {
  "kernelspec": {
   "display_name": "Python 3 (ipykernel)",
   "language": "python",
   "name": "python3"
  },
  "language_info": {
   "codemirror_mode": {
    "name": "ipython",
    "version": 3
   },
   "file_extension": ".py",
   "mimetype": "text/x-python",
   "name": "python",
   "nbconvert_exporter": "python",
   "pygments_lexer": "ipython3",
   "version": "3.11.3"
  }
 },
 "nbformat": 4,
 "nbformat_minor": 5
}
