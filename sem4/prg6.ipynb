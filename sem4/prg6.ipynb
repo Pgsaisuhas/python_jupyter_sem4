{
 "cells": [
  {
   "cell_type": "code",
   "execution_count": 14,
   "id": "e89409a3-654e-45fa-bd0c-110ede9ae03a",
   "metadata": {},
   "outputs": [
    {
     "name": "stdin",
     "output_type": "stream",
     "text": [
      "Enter the file to be read:  tp/t1.txt\n"
     ]
    },
    {
     "name": "stdout",
     "output_type": "stream",
     "text": [
      "hi bro this is file one line 1\n",
      "\n",
      "and this would be line 2\n",
      "\n",
      "and this would be you know it is line 3\n",
      "\n",
      "and so onn\n"
     ]
    },
    {
     "name": "stdin",
     "output_type": "stream",
     "text": [
      "Which word count do you want?:  this\n"
     ]
    },
    {
     "name": "stdout",
     "output_type": "stream",
     "text": [
      "this occurred 3 times.\n"
     ]
    }
   ],
   "source": [
    "'''Write a python program to accept a file name from the user and perform the following\n",
    "operations\n",
    "1. Display the first N line of the file\n",
    "2. Find the frequency of occurrence of the word accepted from the user in the\n",
    "file'''\n",
    "\n",
    "file_path = input(\"Enter the file to be read: \")\n",
    "\n",
    "def disp_first_n_lines(filepath, n):\n",
    "    with open(filepath, 'r') as file:\n",
    "        for i in range(n):\n",
    "            read = file.readline()\n",
    "            print(read)\n",
    "disp_first_n_lines(file_path, 4)\n",
    "\n",
    "word = input(\"Which word count do you want?: \")\n",
    "\n",
    "def word_count(file_path, word):\n",
    "    with open(file_path, 'r') as file:\n",
    "        read = file.read()\n",
    "        print(f\"{word} occurred {read.lower().count(word.lower())} times.\")\n",
    "\n",
    "word_count(file_path, word)\n"
   ]
  },
  {
   "cell_type": "code",
   "execution_count": 15,
   "id": "902023e3-a156-41a6-9121-082d78166e18",
   "metadata": {},
   "outputs": [
    {
     "name": "stdout",
     "output_type": "stream",
     "text": [
      "Folder: tp\n",
      "File: tp\\t1.txt\n",
      "Added to zip: tp\\t1.txt\n",
      "File: tp\\t2.txt\n",
      "Added to zip: tp\\t2.txt\n",
      "Folder: tp\\.ipynb_checkpoints\n",
      "File: tp\\.ipynb_checkpoints\\t1-checkpoint.txt\n",
      "Added to zip: tp\\.ipynb_checkpoints\\t1-checkpoint.txt\n",
      "File: tp\\.ipynb_checkpoints\\t2-checkpoint.txt\n",
      "Added to zip: tp\\.ipynb_checkpoints\\t2-checkpoint.txt\n"
     ]
    }
   ],
   "source": [
    "'''Write a python program to create a ZIP file of a particular folder which contains several\n",
    "files inside it.'''\n",
    "\n",
    "import os\n",
    "import zipfile as z\n",
    "\n",
    "def zip_folder(folder_path, output_path):\n",
    "    with z.ZipFile(output_path, 'w', z.ZIP_DEFLATED) as zip_obj:\n",
    "        for foldername, subfolders, filenames in os.walk(folder_path):\n",
    "            print(\"Folder:\", foldername)\n",
    "            for filename in filenames:\n",
    "                if not filename.endswith(\".ipynb_checkpoints\"):\n",
    "                    file = os.path.join(foldername, filename)\n",
    "                    print(\"File:\", file)\n",
    "                    zip_obj.write(file, os.path.relpath(file, folder_path))\n",
    "                    print(\"Added to zip:\", file)\n",
    "\n",
    "folder_path = 'tp'\n",
    "output_path = 'test.zip'\n",
    "zip_folder(folder_path, output_path)\n"
   ]
  },
  {
   "cell_type": "code",
   "execution_count": null,
   "id": "6388c1f1-2929-44ba-9d4c-87a81b50ac43",
   "metadata": {},
   "outputs": [],
   "source": []
  }
 ],
 "metadata": {
  "kernelspec": {
   "display_name": "venv1kernel",
   "language": "python",
   "name": "venv1kernel"
  },
  "language_info": {
   "codemirror_mode": {
    "name": "ipython",
    "version": 3
   },
   "file_extension": ".py",
   "mimetype": "text/x-python",
   "name": "python",
   "nbconvert_exporter": "python",
   "pygments_lexer": "ipython3",
   "version": "3.11.3"
  }
 },
 "nbformat": 4,
 "nbformat_minor": 5
}
