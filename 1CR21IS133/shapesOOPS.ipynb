{
 "cells": [
  {
   "cell_type": "code",
   "execution_count": 7,
   "id": "d79bffe2-8cc8-4f7b-83a8-ba6ea06ea7a3",
   "metadata": {},
   "outputs": [
    {
     "name": "stdout",
     "output_type": "stream",
     "text": [
      "The area of Triangle is 6.0.\n",
      "The area of Circle is 78.54.\n",
      "The area of Rectangle is 30.\n"
     ]
    }
   ],
   "source": [
    "import math\n",
    "\n",
    "\n",
    "class Shape:\n",
    "    def __init__(self):\n",
    "        self.area = 0\n",
    "        self.name = ''\n",
    "\n",
    "\n",
    "    def showArea(self):\n",
    "        print(f\"The area of {self.name} is {self.area}.\")\n",
    "\n",
    "\n",
    "class Triangle(Shape):\n",
    "    def __init__(self,a,b,c):\n",
    "        self.name = 'Triangle'\n",
    "        self.a = a\n",
    "        self.b = b\n",
    "        self.c = c\n",
    "\n",
    "    def calculateArea(self):\n",
    "        s = (self.a+self.b+self.c)/2\n",
    "        self.area = round(math.sqrt(s*(s-self.a)*(s-self.b)*(s-self.c)),2)\n",
    "        super().showArea()\n",
    "\n",
    "\n",
    "class Circle(Shape):\n",
    "    def __init__(self,rad):\n",
    "        self.name = 'Circle'\n",
    "        self.rad = rad\n",
    "\n",
    "    def calculateArea(self):\n",
    "        self.area = round(math.pi * self.rad ** 2, 2)\n",
    "        super().showArea()\n",
    "\n",
    "\n",
    "class Rectangle(Shape):\n",
    "    def __init__(self,a,b):\n",
    "        self.name = 'Rectangle'\n",
    "        self.a = a\n",
    "        self.b = b\n",
    "\n",
    "    def calculateArea(self):\n",
    "        self.area = round(self.a*self.b, 2)\n",
    "        super().showArea()\n",
    "        \n",
    "        \n",
    "\n",
    "t = Triangle(3,4,5)\n",
    "t.calculateArea()\n",
    "\n",
    "c = Circle(5)\n",
    "c.calculateArea()\n",
    "\n",
    "r = Rectangle(5,6)\n",
    "r.calculateArea()\n",
    "\n",
    "\n"
   ]
  },
  {
   "cell_type": "code",
   "execution_count": null,
   "id": "737e3470-110c-473d-a65c-5e0f73b7dcb9",
   "metadata": {},
   "outputs": [],
   "source": []
  }
 ],
 "metadata": {
  "kernelspec": {
   "display_name": "Python 3 (ipykernel)",
   "language": "python",
   "name": "python3"
  },
  "language_info": {
   "codemirror_mode": {
    "name": "ipython",
    "version": 3
   },
   "file_extension": ".py",
   "mimetype": "text/x-python",
   "name": "python",
   "nbconvert_exporter": "python",
   "pygments_lexer": "ipython3",
   "version": "3.11.3"
  }
 },
 "nbformat": 4,
 "nbformat_minor": 5
}
