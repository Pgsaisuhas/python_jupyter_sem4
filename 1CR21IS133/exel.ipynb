{
 "cells": [
  {
   "cell_type": "code",
   "execution_count": 1,
   "id": "1832d8ee-bd37-40e1-9642-a65266a980db",
   "metadata": {},
   "outputs": [
    {
     "name": "stdout",
     "output_type": "stream",
     "text": [
      "Defaulting to user installation because normal site-packages is not writeable\n",
      "Collecting openpyxl\n",
      "  Downloading openpyxl-3.1.2-py2.py3-none-any.whl (249 kB)\n",
      "     ---------------------------------------- 0.0/250.0 kB ? eta -:--:--\n",
      "     ------ ------------------------------ 41.0/250.0 kB 991.0 kB/s eta 0:00:01\n",
      "     -------------------------------------  245.8/250.0 kB 2.5 MB/s eta 0:00:01\n",
      "     -------------------------------------- 250.0/250.0 kB 1.7 MB/s eta 0:00:00\n",
      "Collecting et-xmlfile (from openpyxl)\n",
      "  Downloading et_xmlfile-1.1.0-py3-none-any.whl (4.7 kB)\n",
      "Installing collected packages: et-xmlfile, openpyxl\n",
      "Successfully installed et-xmlfile-1.1.0 openpyxl-3.1.2\n",
      "Note: you may need to restart the kernel to use updated packages.\n"
     ]
    }
   ],
   "source": [
    "pip install openpyxl\n"
   ]
  },
  {
   "cell_type": "code",
   "execution_count": 5,
   "id": "c387cb2e-0ad2-4394-a464-1dd3fcd1c9c9",
   "metadata": {
    "scrolled": true
   },
   "outputs": [
    {
     "name": "stdout",
     "output_type": "stream",
     "text": [
      "Data read from the sheet :\n",
      "('Sai Suhas', '4c')\n",
      "('Sathwik', '4b')\n",
      "('Ayush J', '4a')\n",
      "has been entered to the Excel sheet\n"
     ]
    }
   ],
   "source": [
    "import openpyxl as op\n",
    "\n",
    "def read_data(input_file, sheet_name):\n",
    "    workbook = op.load_workbook(input_file)\n",
    "    sheet = workbook[sheet_name]\n",
    "\n",
    "    data = []\n",
    "    for row in sheet.iter_rows(min_row = 2, values_only = True):\n",
    "        data.append(row)\n",
    "\n",
    "    return data\n",
    "\n",
    "def write_data(output_file, enter_data, sheet_name):\n",
    "    workbook = op.load_workbook(output_file)\n",
    "    sheet = workbook[sheet_name]\n",
    "\n",
    "    for row in enter_data:\n",
    "        sheet.append(row)\n",
    "\n",
    "    workbook.save(output_file)\n",
    "    print(\"has been entered to the Excel sheet\")\n",
    "\n",
    "input_file = \"input.xlsx\"\n",
    "\n",
    "sheet_name = \"Sheet1\"\n",
    "\n",
    "read = read_data(input_file, sheet_name)\n",
    "\n",
    "print(\"Data read from the sheet :\")\n",
    "for row in read:\n",
    "    print(row)\n",
    "\n",
    "enter_data= [\n",
    "    (\"Samanth\", \"4c\"),\n",
    "    (\"Karthik\", \"4b\"),\n",
    "    (\"Shravani\", \"4a\"),\n",
    "]\n",
    "write_data(input_file, enter_data, sheet_name)"
   ]
  },
  {
   "cell_type": "code",
   "execution_count": null,
   "id": "8760eb3d-8862-4e89-ad95-f40123f2e937",
   "metadata": {},
   "outputs": [],
   "source": []
  }
 ],
 "metadata": {
  "kernelspec": {
   "display_name": "Python 3 (ipykernel)",
   "language": "python",
   "name": "python3"
  },
  "language_info": {
   "codemirror_mode": {
    "name": "ipython",
    "version": 3
   },
   "file_extension": ".py",
   "mimetype": "text/x-python",
   "name": "python",
   "nbconvert_exporter": "python",
   "pygments_lexer": "ipython3",
   "version": "3.11.3"
  }
 },
 "nbformat": 4,
 "nbformat_minor": 5
}
