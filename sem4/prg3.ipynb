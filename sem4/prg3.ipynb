{
 "cells": [
  {
   "cell_type": "code",
   "execution_count": 8,
   "id": "71120267-22d7-46e1-b3fd-090e68065c76",
   "metadata": {},
   "outputs": [
    {
     "name": "stdin",
     "output_type": "stream",
     "text": [
      "Enter a sentence: Hi my email id is saisuhas.1324@gmail.com\n"
     ]
    },
    {
     "name": "stdout",
     "output_type": "stream",
     "text": [
      "No. of words in the sentence is 6\n",
      "No. of digits in the sentence is 4\n",
      "No. of uppercase letters in the sentence is 1\n",
      "No. of lowercase letters in the sentence is 28\n"
     ]
    }
   ],
   "source": [
    "'''3a) Write a Python program that accepts a sentence and find the number of words, digits,\n",
    "uppercase letters and lowercase letters.''' \n",
    "\n",
    "sentence = input(\"Enter a sentence:\")\n",
    "countd = 0\n",
    "countu = 0\n",
    "countl = 0\n",
    "for letter in sentence:\n",
    "    if letter.isdigit():\n",
    "        countd +=1 \n",
    "    elif letter.isupper():\n",
    "        countu += 1\n",
    "    elif letter.islower():\n",
    "        countl += 1\n",
    "\n",
    "words = sentence.split()\n",
    "word_count = len(words)\n",
    "\n",
    "print(f\"No. of words in the sentence is {word_count}\")\n",
    "print(f\"No. of digits in the sentence is {countd}\")\n",
    "print(f\"No. of uppercase letters in the sentence is {countu}\")\n",
    "print(f\"No. of lowercase letters in the sentence is {countl}\")"
   ]
  },
  {
   "cell_type": "code",
   "execution_count": null,
   "id": "99ec5cd7-0e27-4702-bb22-43e9358d7d63",
   "metadata": {},
   "outputs": [],
   "source": [
    "'''3b) Write a Python program to find the string similarity between two given strings\n",
    "Sample Output:\n",
    "Original string:\n",
    "Python Exercises\n",
    "Python Exercises\n",
    "Similarity between two said strings:\n",
    "1.0\n",
    "Sample Output:\n",
    "Original string:\n",
    "Python Exercises\n",
    "Python Exercise\n",
    "Similarity between two said strings:\n",
    "0.967741935483871\n",
    "'''\n",
    "\n",
    "import difflib\n",
    "\n",
    "str1 = input(\"Enter string 1:\")\n",
    "str2 = input(\"Enter string 2:\")\n",
    "\n",
    "difflib.SequenceMatcher(None, str1.upper(), str2.upper()).ratio\n"
   ]
  }
 ],
 "metadata": {
  "kernelspec": {
   "display_name": "venv1kernel",
   "language": "python",
   "name": "venv1kernel"
  },
  "language_info": {
   "codemirror_mode": {
    "name": "ipython",
    "version": 3
   },
   "file_extension": ".py",
   "mimetype": "text/x-python",
   "name": "python",
   "nbconvert_exporter": "python",
   "pygments_lexer": "ipython3",
   "version": "3.11.3"
  }
 },
 "nbformat": 4,
 "nbformat_minor": 5
}
