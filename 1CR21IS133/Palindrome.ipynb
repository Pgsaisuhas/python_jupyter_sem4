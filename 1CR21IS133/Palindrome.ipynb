{
 "cells": [
  {
   "cell_type": "code",
   "execution_count": 18,
   "id": "c7b0d02f-d7b5-4e60-95d8-e3793a535b59",
   "metadata": {},
   "outputs": [
    {
     "name": "stdin",
     "output_type": "stream",
     "text": [
      "Enter a String or a number:  suhus\n"
     ]
    },
    {
     "name": "stdout",
     "output_type": "stream",
     "text": [
      "suhus is a palindrome!!\n"
     ]
    }
   ],
   "source": [
    "class PalindromeChecker:\n",
    "    def __init__(self, value):\n",
    "        self.value = value\n",
    "\n",
    "\n",
    "class StringPalindromeChecker(PalindromeChecker):\n",
    "    def is_palindrome(self):\n",
    "        new = ''.join(self.value.lower().split())\n",
    "        return new == new[::-1]\n",
    "\n",
    "\n",
    "class IntegerPalindromeChecker(PalindromeChecker):\n",
    "    def is_palindrome(self):\n",
    "        return self.value == self.value[::-1]\n",
    "\n",
    "\n",
    "def main():\n",
    "    user_input = input(\"Enter a String or a number: \")\n",
    "\n",
    "    if user_input.isdigit():\n",
    "        checked = IntegerPalindromeChecker(user_input)\n",
    "    else:\n",
    "        checked = StringPalindromeChecker(user_input)\n",
    "\n",
    "\n",
    "    if checked.is_palindrome():\n",
    "        print(f\"{user_input} is a palindrome!!\")\n",
    "    else:\n",
    "        print(f\"{user_input} is not a palindrome!!\")\n",
    "\n",
    "\n",
    "if __name__ == '__main__':\n",
    "    main()\n",
    "        "
   ]
  },
  {
   "cell_type": "code",
   "execution_count": null,
   "id": "0bbb4878-3b4e-4862-bffb-2d9c1b14060a",
   "metadata": {},
   "outputs": [],
   "source": [
    ":"
   ]
  }
 ],
 "metadata": {
  "kernelspec": {
   "display_name": "Python 3 (ipykernel)",
   "language": "python",
   "name": "python3"
  },
  "language_info": {
   "codemirror_mode": {
    "name": "ipython",
    "version": 3
   },
   "file_extension": ".py",
   "mimetype": "text/x-python",
   "name": "python",
   "nbconvert_exporter": "python",
   "pygments_lexer": "ipython3",
   "version": "3.11.3"
  }
 },
 "nbformat": 4,
 "nbformat_minor": 5
}
