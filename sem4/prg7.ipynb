{
 "cells": [
  {
   "cell_type": "code",
   "execution_count": 15,
   "id": "fa9c9769-3225-4585-b597-4acae611f861",
   "metadata": {},
   "outputs": [
    {
     "name": "stdout",
     "output_type": "stream",
     "text": [
      "The area of Triangle : 6.0\n",
      "The area of Circle : 78.54\n",
      "The area of Rectangle : 30\n"
     ]
    }
   ],
   "source": [
    "'''By using the concept of inheritance write a python program to find the area of triangle,\n",
    "circle and rectangle'''\n",
    "\n",
    "import math\n",
    "\n",
    "class Shape:\n",
    "\n",
    "    def __init__(self):\n",
    "        self.area = 0\n",
    "        self.name = ''\n",
    "\n",
    "    def showArea(self):\n",
    "        print(f\"The area of {self.name} : {round(self.area, 2)}\")\n",
    "\n",
    "class Triangle(Shape):  \n",
    "   \n",
    "    def __init__(self, s1, s2, s3):\n",
    "        # super().__init__()  \n",
    "        self.name = 'Triangle'\n",
    "        self.s1 = s1\n",
    "        self.s2 = s2\n",
    "        self.s3 = s3\n",
    "\n",
    "    def calculate(self):\n",
    "        s = (self.s1+self.s2+self.s3)/2\n",
    "        self.area = (s*(s-self.s1)*(s-self.s2)*(s-self.s3))**0.5\n",
    "        super().showArea()\n",
    "\n",
    "class Circle(Shape):\n",
    "\n",
    "    def __init__(self, radius):\n",
    "        self.rad = radius\n",
    "        self.name = 'Circle'\n",
    "\n",
    "    def calculate(self):\n",
    "        self.area = math.pi * self.rad ** 2\n",
    "        super().showArea()\n",
    "\n",
    "class Rectangle(Shape):\n",
    "\n",
    "    def __init__(self, height, breadth):\n",
    "        self.h = height\n",
    "        self.b = breadth\n",
    "        self.name = 'Rectangle'\n",
    "\n",
    "    def calculate(self):\n",
    "        self.area = self.h * self.b\n",
    "        super().showArea()\n",
    "\n",
    "t = Triangle(3,4,5)\n",
    "t.calculate()\n",
    "\n",
    "c = Circle(5)\n",
    "c.calculate()\n",
    "\n",
    "r = Rectangle(5,6)\n",
    "r.calculate()\n"
   ]
  },
  {
   "cell_type": "code",
   "execution_count": 20,
   "id": "5a29d1b9-a2ee-4f23-8f78-5da9792cfc25",
   "metadata": {},
   "outputs": [
    {
     "name": "stdout",
     "output_type": "stream",
     "text": [
      "1. Add Employee\n",
      "2. Update Department Salary\n",
      "3. Display All Employees\n",
      "4. Exit\n"
     ]
    },
    {
     "name": "stdin",
     "output_type": "stream",
     "text": [
      "Enter your choice:  3\n"
     ]
    },
    {
     "name": "stdout",
     "output_type": "stream",
     "text": [
      "\n",
      "All Employees:\n",
      "------------------------------\n",
      "1. Add Employee\n",
      "2. Update Department Salary\n",
      "3. Display All Employees\n",
      "4. Exit\n"
     ]
    },
    {
     "name": "stdin",
     "output_type": "stream",
     "text": [
      "Enter your choice:  1\n"
     ]
    },
    {
     "name": "stdout",
     "output_type": "stream",
     "text": [
      "\n"
     ]
    },
    {
     "name": "stdin",
     "output_type": "stream",
     "text": [
      "\n",
      "Enter employee name:  sai suhas p g\n",
      "Enter employee ID:  133\n",
      "Enter department:  ISE\n",
      "Enter salary:  50000\n"
     ]
    },
    {
     "name": "stdout",
     "output_type": "stream",
     "text": [
      "Employee added successfully!\n",
      "\n",
      "1. Add Employee\n",
      "2. Update Department Salary\n",
      "3. Display All Employees\n",
      "4. Exit\n"
     ]
    },
    {
     "name": "stdin",
     "output_type": "stream",
     "text": [
      "Enter your choice:  1\n"
     ]
    },
    {
     "name": "stdout",
     "output_type": "stream",
     "text": [
      "\n"
     ]
    },
    {
     "name": "stdin",
     "output_type": "stream",
     "text": [
      "\n",
      "Enter employee name:  sammy\n",
      "Enter employee ID:  129\n",
      "Enter department:  cse\n",
      "Enter salary:  65000\n"
     ]
    },
    {
     "name": "stdout",
     "output_type": "stream",
     "text": [
      "Employee added successfully!\n",
      "\n",
      "1. Add Employee\n",
      "2. Update Department Salary\n",
      "3. Display All Employees\n",
      "4. Exit\n"
     ]
    },
    {
     "name": "stdin",
     "output_type": "stream",
     "text": [
      "Enter your choice:  3\n"
     ]
    },
    {
     "name": "stdout",
     "output_type": "stream",
     "text": [
      "\n",
      "All Employees:\n",
      "------------------------------\n",
      "\n",
      "Name:sai suhas p g\n",
      "Employee ID: 133\n",
      "Department: ISE\n",
      "Salary: 50000.0\n",
      "\n",
      "------------------------------\n",
      "\n",
      "Name:sammy\n",
      "Employee ID: 129\n",
      "Department: cse\n",
      "Salary: 65000.0\n",
      "\n",
      "------------------------------\n",
      "1. Add Employee\n",
      "2. Update Department Salary\n",
      "3. Display All Employees\n",
      "4. Exit\n"
     ]
    },
    {
     "name": "stdin",
     "output_type": "stream",
     "text": [
      "Enter your choice:  2\n"
     ]
    },
    {
     "name": "stdout",
     "output_type": "stream",
     "text": [
      "\n"
     ]
    },
    {
     "name": "stdin",
     "output_type": "stream",
     "text": [
      "Enter department to update salary for:  ISE\n",
      "Enter new salary:  10\n"
     ]
    },
    {
     "name": "stdout",
     "output_type": "stream",
     "text": [
      "Salary for employees in 'ISE' department updated!\n",
      "1. Add Employee\n",
      "2. Update Department Salary\n",
      "3. Display All Employees\n",
      "4. Exit\n"
     ]
    },
    {
     "name": "stdin",
     "output_type": "stream",
     "text": [
      "Enter your choice:  3\n"
     ]
    },
    {
     "name": "stdout",
     "output_type": "stream",
     "text": [
      "\n",
      "All Employees:\n",
      "------------------------------\n",
      "\n",
      "Name:sai suhas p g\n",
      "Employee ID: 133\n",
      "Department: ISE\n",
      "Salary: 55000.0\n",
      "\n",
      "------------------------------\n",
      "\n",
      "Name:sammy\n",
      "Employee ID: 129\n",
      "Department: cse\n",
      "Salary: 65000.0\n",
      "\n",
      "------------------------------\n",
      "1. Add Employee\n",
      "2. Update Department Salary\n",
      "3. Display All Employees\n",
      "4. Exit\n"
     ]
    },
    {
     "name": "stdin",
     "output_type": "stream",
     "text": [
      "Enter your choice:  4\n"
     ]
    },
    {
     "name": "stdout",
     "output_type": "stream",
     "text": [
      "\n",
      "Exiting the program.\n"
     ]
    }
   ],
   "source": [
    "'''7b) Write a python program by creating a class called Employee to store the details of\n",
    "Name, Employee_ID, Department and Salary, and implement a method to update salary\n",
    "of employees belonging to a given department.'''\n",
    "\n",
    "\n",
    "class Employee:\n",
    "\n",
    "    def __init__(self, name, epid, dep, salary):\n",
    "        self.name = name\n",
    "        self.epid = epid\n",
    "        self.dep = dep\n",
    "        self.salary = salary\n",
    "\n",
    "    def update_salary(self, percent):\n",
    "        self.salary += self.salary*percent / 100 \n",
    "\n",
    "    def __str__(self):\n",
    "        print('-'*30)\n",
    "        return f\"\\nName:{self.name}\\nEmployee ID: {self.epid}\\nDepartment: {self.dep}\\nSalary: {self.salary}\\n\"\n",
    "\n",
    "\n",
    "class Employee_db:\n",
    "\n",
    "    def __init__(self):\n",
    "        self.employees = []\n",
    "\n",
    "    def add_employee(self, employee):\n",
    "        self.employees.append(employee)\n",
    "\n",
    "    def update_department_salary(self, department, percent):\n",
    "        for employee in self.employees:\n",
    "            if employee.dep == department:\n",
    "                employee.update_salary(percent)\n",
    "\n",
    "    def display_all_employees(self):\n",
    "        for employee in self.employees:\n",
    "            print(employee)\n",
    "        print('-'*30)\n",
    "\n",
    "\n",
    "employee_db = Employee_db()\n",
    "\n",
    "while True:\n",
    "    print(\"1. Add Employee\")\n",
    "    print(\"2. Update Department Salary\")\n",
    "    print(\"3. Display All Employees\")\n",
    "    print(\"4. Exit\")\n",
    "    choice = input(\"Enter your choice: \")\n",
    "    print()\n",
    "    if choice == \"1\":\n",
    "        name = input(\"\\nEnter employee name: \")\n",
    "        employee_id = int(input(\"Enter employee ID: \"))\n",
    "        department = input(\"Enter department: \")\n",
    "        salary = float(input(\"Enter salary: \"))\n",
    "        employee = Employee(name, employee_id, department, salary)\n",
    "        employee_db.add_employee(employee)\n",
    "        print(\"Employee added successfully!\\n\")\n",
    "    elif choice == \"2\":\n",
    "        department = input(\"Enter department to update salary for: \")\n",
    "        new_salary = float(input(\"Enter new salary: \"))\n",
    "        employee_db.update_department_salary(department, new_salary)\n",
    "        print(f\"Salary for employees in '{department}' department updated!\")\n",
    "    elif choice == \"3\":\n",
    "        print(\"All Employees:\")\n",
    "        employee_db.display_all_employees()\n",
    "    elif choice == \"4\":\n",
    "        print(\"Exiting the program.\")\n",
    "        break\n",
    "    else:\n",
    "        print(\"Invalid choice. Please select a valid option.\")\n",
    "            \n",
    "        \n",
    "    "
   ]
  },
  {
   "cell_type": "code",
   "execution_count": null,
   "id": "e0332eac-6ea6-47c3-ba4e-70630b86ee7c",
   "metadata": {},
   "outputs": [],
   "source": []
  }
 ],
 "metadata": {
  "kernelspec": {
   "display_name": "venv1kernel",
   "language": "python",
   "name": "venv1kernel"
  },
  "language_info": {
   "codemirror_mode": {
    "name": "ipython",
    "version": 3
   },
   "file_extension": ".py",
   "mimetype": "text/x-python",
   "name": "python",
   "nbconvert_exporter": "python",
   "pygments_lexer": "ipython3",
   "version": "3.11.3"
  }
 },
 "nbformat": 4,
 "nbformat_minor": 5
}
