{
 "cells": [
  {
   "cell_type": "code",
   "execution_count": 1,
   "id": "996d9dd0-4520-4457-a4a2-9b91d25f8eac",
   "metadata": {},
   "outputs": [
    {
     "name": "stdout",
     "output_type": "stream",
     "text": [
      "Collecting PyPDF2\n",
      "  Using cached pypdf2-3.0.1-py3-none-any.whl (232 kB)\n",
      "Installing collected packages: PyPDF2\n",
      "Successfully installed PyPDF2-3.0.1\n",
      "Note: you may need to restart the kernel to use updated packages.\n"
     ]
    }
   ],
   "source": [
    "pip install PyPDF2\n"
   ]
  },
  {
   "cell_type": "code",
   "execution_count": 2,
   "id": "1c966bd7-7bf7-466d-a226-6f54544f309e",
   "metadata": {},
   "outputs": [
    {
     "name": "stdin",
     "output_type": "stream",
     "text": [
      "Enter the page number to extract from 'BMTC.pdf':  1\n",
      "Enter the page number to extract from 'combined_pages.pdf':  2\n"
     ]
    }
   ],
   "source": [
    "from PyPDF2 import PdfWriter, PdfReader\n",
    "\n",
    "def combine_pages_from_pdfs(pdf_files, page_numbers):\n",
    "    pdf_writer = PdfWriter()\n",
    "\n",
    "    for i, pdf_file in enumerate(pdf_files):\n",
    "        with open(pdf_file, 'rb') as pdf:\n",
    "            pdf_reader = PdfReader(pdf)\n",
    "            num_pages = len(pdf_reader.pages)\n",
    "            if i < len(page_numbers) and 1 <= page_numbers[i] <= num_pages:\n",
    "                page = pdf_reader.pages[page_numbers[i] - 1]\n",
    "                pdf_writer.add_page(page)\n",
    "\n",
    "    return pdf_writer\n",
    "\n",
    "def main():\n",
    "    pdf_files = ['BMTC.pdf', 'combined_pages.pdf']  # Add more PDF file paths as needed\n",
    "    num_pdfs = len(pdf_files)\n",
    "\n",
    "    page_numbers = []\n",
    "    for i in range(num_pdfs):\n",
    "        page_num = int(input(f\"Enter the page number to extract from '{pdf_files[i]}': \"))\n",
    "        page_numbers.append(page_num)\n",
    "\n",
    "    pdf_writer = combine_pages_from_pdfs(pdf_files, page_numbers)\n",
    "\n",
    "    with open('output.pdf', 'wb') as output:\n",
    "        pdf_writer.write(output)\n",
    "\n",
    "if __name__ == \"__main__\":\n",
    "    main()\n"
   ]
  },
  {
   "cell_type": "code",
   "execution_count": 4,
   "id": "d291e2dc-9537-46ba-ae83-279959b7fdd3",
   "metadata": {},
   "outputs": [
    {
     "name": "stdin",
     "output_type": "stream",
     "text": [
      "Enter the city:  Bangalore\n"
     ]
    },
    {
     "name": "stdout",
     "output_type": "stream",
     "text": [
      "----------Bangalore-----------\n",
      "The temparature is 296.95\n"
     ]
    },
    {
     "ename": "NameError",
     "evalue": "name 'pressure' is not defined",
     "output_type": "error",
     "traceback": [
      "\u001b[1;31m---------------------------------------------------------------------------\u001b[0m",
      "\u001b[1;31mNameError\u001b[0m                                 Traceback (most recent call last)",
      "Cell \u001b[1;32mIn[4], line 21\u001b[0m\n\u001b[0;32m     19\u001b[0m \u001b[38;5;28mprint\u001b[39m(\u001b[38;5;124mf\u001b[39m\u001b[38;5;124m'\u001b[39m\u001b[38;5;132;01m{\u001b[39;00mcity\u001b[38;5;132;01m:\u001b[39;00m\u001b[38;5;124m-^30\u001b[39m\u001b[38;5;132;01m}\u001b[39;00m\u001b[38;5;124m'\u001b[39m)\n\u001b[0;32m     20\u001b[0m \u001b[38;5;28mprint\u001b[39m(\u001b[38;5;124mf\u001b[39m\u001b[38;5;124m'\u001b[39m\u001b[38;5;124mThe temparature is \u001b[39m\u001b[38;5;132;01m{\u001b[39;00mtemp\u001b[38;5;132;01m}\u001b[39;00m\u001b[38;5;124m'\u001b[39m)\n\u001b[1;32m---> 21\u001b[0m \u001b[38;5;28mprint\u001b[39m(\u001b[38;5;124mf\u001b[39m\u001b[38;5;124m'\u001b[39m\u001b[38;5;124mthe pressure is \u001b[39m\u001b[38;5;132;01m{\u001b[39;00m\u001b[43mpressure\u001b[49m\u001b[38;5;132;01m}\u001b[39;00m\u001b[38;5;124m'\u001b[39m)\n\u001b[0;32m     22\u001b[0m \u001b[38;5;28mprint\u001b[39m(\u001b[38;5;124mf\u001b[39m\u001b[38;5;124m'\u001b[39m\u001b[38;5;124mThe humidity is \u001b[39m\u001b[38;5;132;01m{\u001b[39;00mhumidity\u001b[38;5;132;01m}\u001b[39;00m\u001b[38;5;124m'\u001b[39m)\n\u001b[0;32m     23\u001b[0m \u001b[38;5;28mprint\u001b[39m(\u001b[38;5;124mf\u001b[39m\u001b[38;5;124m\"\u001b[39m\u001b[38;5;124mThe weather is \u001b[39m\u001b[38;5;132;01m{\u001b[39;00mreport[\u001b[38;5;241m0\u001b[39m][\u001b[38;5;124m'\u001b[39m\u001b[38;5;124mdescription\u001b[39m\u001b[38;5;124m'\u001b[39m]\u001b[38;5;132;01m}\u001b[39;00m\u001b[38;5;124m\"\u001b[39m)\n",
      "\u001b[1;31mNameError\u001b[0m: name 'pressure' is not defined"
     ]
    }
   ],
   "source": [
    "import requests as r\n",
    "import json\n",
    "\n",
    "BASE_URL = 'https://api.openweathermap.org/data/2.5/weather?'\n",
    "city = input(\"Enter the city: \")\n",
    "api = '7bdccf825b7dd119a05ac2e0afaf1aaa'\n",
    "\n",
    "URL  = BASE_URL + 'q=' + city + '&appid='+api\n",
    "\n",
    "res = r.get(URL)\n",
    "\n",
    "if res.status_code == 200:\n",
    "    data = res.json()\n",
    "    temp = data['main']['temp']\n",
    "    presssure = data['main']['pressure']\n",
    "    humidity = data['main']['humidity']\n",
    "    report = data['weather']\n",
    "\n",
    "    print(f'{city:-^30}')\n",
    "    print(f'The temparature is {temp}')\n",
    "    print(f'the pressure is {pressure}')\n",
    "    print(f'The humidity is {humidity}')\n",
    "    print(f\"The weather is {report[0]['description']}\")\n",
    "\n",
    "else:\n",
    "    print(f\"Error {res.status_code} not found.\")"
   ]
  },
  {
   "cell_type": "code",
   "execution_count": null,
   "id": "2ecc2d6c-e0a3-4e09-aedf-1b8db7311491",
   "metadata": {},
   "outputs": [],
   "source": []
  }
 ],
 "metadata": {
  "kernelspec": {
   "display_name": "venv1kernel",
   "language": "python",
   "name": "venv1kernel"
  },
  "language_info": {
   "codemirror_mode": {
    "name": "ipython",
    "version": 3
   },
   "file_extension": ".py",
   "mimetype": "text/x-python",
   "name": "python",
   "nbconvert_exporter": "python",
   "pygments_lexer": "ipython3",
   "version": "3.11.3"
  }
 },
 "nbformat": 4,
 "nbformat_minor": 5
}
