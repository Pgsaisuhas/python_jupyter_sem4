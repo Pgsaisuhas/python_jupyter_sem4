{
 "cells": [
  {
   "cell_type": "code",
   "execution_count": 15,
   "id": "068ab3a8-d5e6-4be8-bdc3-405678cba265",
   "metadata": {},
   "outputs": [
    {
     "name": "stdin",
     "output_type": "stream",
     "text": [
      "Enter a phone number:  9cb-456-1234\n"
     ]
    },
    {
     "name": "stdout",
     "output_type": "stream",
     "text": [
      "Without REgular expression:  False\n",
      "With Regular expression:  False\n"
     ]
    }
   ],
   "source": [
    "'''5A) Write a function called isphonenumber () to recognize a pattern 415-555-4242 without\n",
    "using regular expression and also write the code to recognize the same pattern using\n",
    "regular expression.'''\n",
    "\n",
    "import re\n",
    "\n",
    "def isphonenumber(number):\n",
    "    parts = number.split()\n",
    "    if len(parts) != 3:\n",
    "        return False\n",
    "    for part in parts:\n",
    "        if not part.isdigit() or (len(part) != 3 and len(part) != 4):\n",
    "            return False\n",
    "    return True\n",
    "\n",
    "number = input(\"Enter a phone number: \")\n",
    "print(\"Without REgular expression: \",isphonenumber(number.replace('-', ' ')))\n",
    "\n",
    "def isphonenumber_with_re(number):\n",
    "    template_1 = re.compile(r'[0-9]{3}-[0-9]{3}-[0-9]{4}')\n",
    "    template_2 = re.compile(r'[0-9]{3} [0-9]{3} [0-9]{4}')\n",
    "\n",
    "    if re.match(template_1, number) or re.match(template_2, number):\n",
    "        return True\n",
    "\n",
    "    return False\n",
    "        \n",
    "        \n",
    "print(\"With Regular expression: \", isphonenumber_with_re(number.replace('-', ' ')))"
   ]
  },
  {
   "cell_type": "code",
   "execution_count": 20,
   "id": "e1c5e10d-4c62-4701-925b-480227f60e4c",
   "metadata": {},
   "outputs": [
    {
     "name": "stdin",
     "output_type": "stream",
     "text": [
      "enter file path:  tp/test1.txt\n"
     ]
    },
    {
     "name": "stdout",
     "output_type": "stream",
     "text": [
      "All phone numbers found in the file is: \n",
      "+91805091998\n",
      "+91888431220\n",
      "+91897136212\n",
      "All Emails found in the file is: \n",
      "saisuhas.1324@gmail.com\n",
      "sbjai21is@gmail.com\n",
      "yashu@gmail.com\n"
     ]
    }
   ],
   "source": [
    "'''5B) Develop a python program that could search the text in a file for phone numbers\n",
    "(+919900889977) and email addresses (sample@gmail.com)'''\n",
    "\n",
    "def read_phone_and_email(file_path):\n",
    "    phone = re.compile(r'\\+[1-9]{2}[1-9]\\d{8}')\n",
    "    email = re.compile(r'[a-zA-Z0-9._%+-]+@[a-zA-Z0-9.-]+\\.[a-zA-Z]{2,}'\n",
    ")\n",
    "\n",
    "    with open(file_path, 'r') as file:\n",
    "        page = file.read()\n",
    "        phones = re.findall(phone, page)\n",
    "        emails = re.findall(email, page)\n",
    "\n",
    "    return phones, emails\n",
    "\n",
    "\n",
    "file_path = input(\"enter file path: \")\n",
    "phones, emails = read_phone_and_email(file_path)\n",
    "\n",
    "print(\"All phone numbers found in the file is: \")\n",
    "for phone in phones:\n",
    "    print(phone)\n",
    "print(\"All Emails found in the file is: \")\n",
    "for email in emails:\n",
    "    print(email)\n",
    "\n"
   ]
  },
  {
   "cell_type": "code",
   "execution_count": null,
   "id": "4a39c521-f26e-411b-8676-11edc8817dd0",
   "metadata": {},
   "outputs": [],
   "source": []
  }
 ],
 "metadata": {
  "kernelspec": {
   "display_name": "venv1kernel",
   "language": "python",
   "name": "venv1kernel"
  },
  "language_info": {
   "codemirror_mode": {
    "name": "ipython",
    "version": 3
   },
   "file_extension": ".py",
   "mimetype": "text/x-python",
   "name": "python",
   "nbconvert_exporter": "python",
   "pygments_lexer": "ipython3",
   "version": "3.11.3"
  }
 },
 "nbformat": 4,
 "nbformat_minor": 5
}
