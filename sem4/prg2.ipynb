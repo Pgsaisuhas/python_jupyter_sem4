{
 "cells": [
  {
   "cell_type": "code",
   "execution_count": 17,
   "id": "ebbaab48-8168-40fc-a82c-869d0f1700fd",
   "metadata": {},
   "outputs": [
    {
     "name": "stdin",
     "output_type": "stream",
     "text": [
      "Enter the number:  3\n"
     ]
    },
    {
     "name": "stdout",
     "output_type": "stream",
     "text": [
      "The number in the Fibonacci series at position 3 is '1'.\n"
     ]
    }
   ],
   "source": [
    "'''2a) Defined as a function F as Fn = Fn-1 + Fn-2. Write a Python program which accepts a\n",
    "value for N (where N >0) as input and pass this value to the function. Display suitable\n",
    "error message if the condition for input value is not followed.'''\n",
    "\n",
    "\n",
    "N = int(input(\"Enter the number: \"))\n",
    "\n",
    "\n",
    "def F(N):\n",
    "    if(N<=0):\n",
    "        print(\"Pls enter a value of N that is greater than 0.\")\n",
    "        return\n",
    "    elif(N==1):\n",
    "        return 0\n",
    "    elif(N==2):\n",
    "        return 1\n",
    "    else:\n",
    "        return F(N-1)+F(N-2)\n",
    "\n",
    "print(f\"The number in the Fibonacci series at position {N} is '{F(N)}'.\")"
   ]
  },
  {
   "cell_type": "code",
   "execution_count": 32,
   "id": "7241fc0c-f138-4f0d-9bba-03a5df3e91ac",
   "metadata": {},
   "outputs": [
    {
     "name": "stdin",
     "output_type": "stream",
     "text": [
      "Enter a binary number:  1010\n"
     ]
    },
    {
     "name": "stdout",
     "output_type": "stream",
     "text": [
      "1010 in decimal is: 10.\n",
      "1010 in ocatl form is 0o12\n",
      "The hexadecimal form of 0o12 is 0XA\n"
     ]
    }
   ],
   "source": [
    "'''2b) Develop a python program to convert binary to decimal, octal to hexadecimal using\n",
    "functions.'''\n",
    "\n",
    "binary = input(\"Enter a binary number: \")\n",
    "\n",
    "x=int(binary,2)\n",
    "y=oct(x)\n",
    "\n",
    "\n",
    "def bitode(binary):\n",
    "    print(f\"{binary} in decimal is: {x}.\")\n",
    "\n",
    "def bitotohex(binary):\n",
    "    print(f\"{binary} in ocatl form is {oct(x)}\\nThe hexadecimal form of {oct(x)} is {hex(int(y[2:], 8)).upper()}\")\n",
    "\n",
    "bitode(binary)\n",
    "bitotohex(binary)\n"
   ]
  },
  {
   "cell_type": "code",
   "execution_count": null,
   "id": "47005515-65d3-4ffd-91ea-504e7b9f9e4e",
   "metadata": {},
   "outputs": [],
   "source": []
  }
 ],
 "metadata": {
  "kernelspec": {
   "display_name": "venv1kernel",
   "language": "python",
   "name": "venv1kernel"
  },
  "language_info": {
   "codemirror_mode": {
    "name": "ipython",
    "version": 3
   },
   "file_extension": ".py",
   "mimetype": "text/x-python",
   "name": "python",
   "nbconvert_exporter": "python",
   "pygments_lexer": "ipython3",
   "version": "3.11.3"
  }
 },
 "nbformat": 4,
 "nbformat_minor": 5
}
