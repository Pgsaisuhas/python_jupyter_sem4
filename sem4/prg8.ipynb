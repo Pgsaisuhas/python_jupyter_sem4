{
 "cells": [
  {
   "cell_type": "code",
   "execution_count": 9,
   "id": "4538c7c5-8b01-44da-9661-d2894fba1e57",
   "metadata": {},
   "outputs": [
    {
     "name": "stdin",
     "output_type": "stream",
     "text": [
      "Enter a word or a String:  1221\n"
     ]
    },
    {
     "name": "stdout",
     "output_type": "stream",
     "text": [
      "'1221' is a palindrome!!\n"
     ]
    }
   ],
   "source": [
    "'''Write a python program to find the whether the given input is palindrome or not (for\n",
    "both string and integer) using the concept of polymorphism and inheritance.'''\n",
    "\n",
    "class PalindromeChecker:\n",
    "\n",
    "    def __init__(self, value):\n",
    "        self.value = value\n",
    "\n",
    "    def is_palindrome(self):\n",
    "        pass\n",
    "\n",
    "class IntegerPalindromeChecker(PalindromeChecker):\n",
    "    def is_palindrome(self):\n",
    "        return self.value == self.value[::-1]\n",
    "\n",
    "class StringPalindromeChecker(PalindromeChecker):\n",
    "    def is_palindrome(self):\n",
    "        new_value = ''.join(self.value.lower().split())\n",
    "        return new_value == new_value[::-1]\n",
    "\n",
    "def main():\n",
    "    user_input = input(\"Enter a word or a String: \")\n",
    "    if user_input.isdigit():\n",
    "        checked = IntegerPalindromeChecker(user_input)\n",
    "    else:\n",
    "        checked = StringPalindromeChecker(user_input)\n",
    "\n",
    "    if checked.is_palindrome():\n",
    "        print(f\"'{user_input}' is a palindrome!!\")\n",
    "    else:\n",
    "        print(f\"'{user_input}' is not  a palindrome!!\")\n",
    "\n",
    "if __name__ == '__main__':\n",
    "    main()"
   ]
  },
  {
   "cell_type": "code",
   "execution_count": null,
   "id": "c65f5184-9fd4-4624-bdb6-8d7d606015e3",
   "metadata": {},
   "outputs": [],
   "source": []
  }
 ],
 "metadata": {
  "kernelspec": {
   "display_name": "venv1kernel",
   "language": "python",
   "name": "venv1kernel"
  },
  "language_info": {
   "codemirror_mode": {
    "name": "ipython",
    "version": 3
   },
   "file_extension": ".py",
   "mimetype": "text/x-python",
   "name": "python",
   "nbconvert_exporter": "python",
   "pygments_lexer": "ipython3",
   "version": "3.11.3"
  }
 },
 "nbformat": 4,
 "nbformat_minor": 5
}
