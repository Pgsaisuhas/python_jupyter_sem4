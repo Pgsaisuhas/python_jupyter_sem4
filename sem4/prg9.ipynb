{
 "cells": [
  {
   "cell_type": "code",
   "execution_count": 1,
   "id": "05adcd8d-3afc-4562-b4d4-f39e2304bc1c",
   "metadata": {},
   "outputs": [
    {
     "name": "stdout",
     "output_type": "stream",
     "text": [
      "Requirement already satisfied: requests in c:\\users\\harshitha\\envs\\test\\lib\\site-packages (2.31.0)\n",
      "Requirement already satisfied: charset-normalizer<4,>=2 in c:\\users\\harshitha\\envs\\test\\lib\\site-packages (from requests) (3.2.0)\n",
      "Requirement already satisfied: idna<4,>=2.5 in c:\\users\\harshitha\\envs\\test\\lib\\site-packages (from requests) (3.4)\n",
      "Requirement already satisfied: urllib3<3,>=1.21.1 in c:\\users\\harshitha\\envs\\test\\lib\\site-packages (from requests) (2.0.5)\n",
      "Requirement already satisfied: certifi>=2017.4.17 in c:\\users\\harshitha\\envs\\test\\lib\\site-packages (from requests) (2023.7.22)\n",
      "Note: you may need to restart the kernel to use updated packages.\n"
     ]
    }
   ],
   "source": [
    "pip install requests\n"
   ]
  },
  {
   "cell_type": "code",
   "execution_count": 2,
   "id": "998b5fe6-c7ba-46a7-a0ae-f5eeec8bb72e",
   "metadata": {},
   "outputs": [
    {
     "name": "stdout",
     "output_type": "stream",
     "text": [
      "Requirement already satisfied: bs4 in c:\\users\\harshitha\\envs\\test\\lib\\site-packages (0.0.1)\n",
      "Requirement already satisfied: beautifulsoup4 in c:\\users\\harshitha\\envs\\test\\lib\\site-packages (from bs4) (4.12.2)\n",
      "Requirement already satisfied: soupsieve>1.2 in c:\\users\\harshitha\\envs\\test\\lib\\site-packages (from beautifulsoup4->bs4) (2.5)\n",
      "Note: you may need to restart the kernel to use updated packages.\n"
     ]
    }
   ],
   "source": [
    "pip install bs4\n"
   ]
  },
  {
   "cell_type": "code",
   "execution_count": 9,
   "id": "e53f6558-a4e2-4735-b0ce-3d06f4093f12",
   "metadata": {},
   "outputs": [],
   "source": [
    "import random as rand"
   ]
  },
  {
   "cell_type": "code",
   "execution_count": 10,
   "id": "fb3d0ceb-5c4b-436c-bbd8-336637cbbbc0",
   "metadata": {},
   "outputs": [
    {
     "name": "stdin",
     "output_type": "stream",
     "text": [
      "Enter how many comics you want to download:  10\n"
     ]
    },
    {
     "name": "stdout",
     "output_type": "stream",
     "text": [
      "fetching URL:  https://xkcd.com/19/\n",
      "Image URL: //imgs.xkcd.com/comics/george_clinton.jpg\n",
      "fetching URL:  https://xkcd.com/913/\n",
      "Image URL: //imgs.xkcd.com/comics/core.png\n",
      "fetching URL:  https://xkcd.com/268/\n",
      "Image URL: //imgs.xkcd.com/comics/choices_part_5.png\n",
      "fetching URL:  https://xkcd.com/959/\n",
      "Image URL: //imgs.xkcd.com/comics/caroling.png\n",
      "fetching URL:  https://xkcd.com/918/\n",
      "Image URL: //imgs.xkcd.com/comics/googleplus.png\n",
      "fetching URL:  https://xkcd.com/982/\n",
      "Image URL: //imgs.xkcd.com/comics/set_theory.png\n",
      "fetching URL:  https://xkcd.com/946/\n",
      "Image URL: //imgs.xkcd.com/comics/family_decals.png\n",
      "fetching URL:  https://xkcd.com/774/\n",
      "Image URL: //imgs.xkcd.com/comics/atheists.png\n",
      "fetching URL:  https://xkcd.com/345/\n",
      "Image URL: //imgs.xkcd.com/comics/1337_part_5.png\n",
      "fetching URL:  https://xkcd.com/867/\n",
      "Image URL: //imgs.xkcd.com/comics/herpetology.png\n",
      "Downloaded the required number of images...\n"
     ]
    }
   ],
   "source": [
    "'''Write a python program to download the all XKCD comics'''\n",
    "\n",
    "import os\n",
    "import requests as r\n",
    "from bs4 import BeautifulSoup as bs\n",
    "\n",
    "\n",
    "n = int(input(\"Enter how many comics you want to download: \"))\n",
    "if not os.path.exists('comics'):\n",
    "    os.makedirs('comics')\n",
    "\n",
    "for i in range(1,n+1):\n",
    "    try:\n",
    "        url = f'https://xkcd.com/{rand.randint(1, 1000)}/'\n",
    "        print('fetching URL: ', url)\n",
    "        page = r.get(url).content\n",
    "        soup = bs(page, 'html.parser')\n",
    "        img = soup.select_one('#comic img')['src']\n",
    "        print(\"Image URL:\", img)\n",
    "        with open(os.path.join('comics', os.path.basename(img)), 'wb') as f:\n",
    "            image_url = 'https:'+ img\n",
    "            f.write(r.get(image_url).content)\n",
    "\n",
    "    except Exception as e:\n",
    "        print(\"Error:\", e)\n",
    "        continue\n",
    "print(\"Downloaded the required number of images...\")"
   ]
  },
  {
   "cell_type": "code",
   "execution_count": 11,
   "id": "29411235-8bf3-464b-bb85-7316aa757392",
   "metadata": {},
   "outputs": [
    {
     "name": "stdout",
     "output_type": "stream",
     "text": [
      "Collecting openpyxl\n",
      "  Using cached openpyxl-3.1.2-py2.py3-none-any.whl (249 kB)\n",
      "Collecting et-xmlfile (from openpyxl)\n",
      "  Using cached et_xmlfile-1.1.0-py3-none-any.whl (4.7 kB)\n",
      "Installing collected packages: et-xmlfile, openpyxl\n",
      "Successfully installed et-xmlfile-1.1.0 openpyxl-3.1.2\n",
      "Note: you may need to restart the kernel to use updated packages.\n"
     ]
    }
   ],
   "source": [
    "pip install openpyxl"
   ]
  },
  {
   "cell_type": "code",
   "execution_count": 1,
   "id": "1426b264-7c68-4ca0-99d7-676e22b23283",
   "metadata": {},
   "outputs": [
    {
     "name": "stdin",
     "output_type": "stream",
     "text": [
      "enter the data file path:  tp/input.xlsx\n",
      "enter the output file path:  tp/output.xlsx\n"
     ]
    },
    {
     "name": "stdout",
     "output_type": "stream",
     "text": [
      "Data read form the sheet: \n",
      "('karthik', 72)\n",
      "('Ayush J', 30)\n",
      "('Sai suhas', 133)\n",
      "------------------------------\n",
      "('Sathwik', 85)\n",
      "('Shravani', 42)\n",
      "('Yashas', 184)\n",
      "New Data written into the spreadsheet.\n"
     ]
    }
   ],
   "source": [
    "'''9b) Demonstrate python program to read the data from the spreadsheet and write the data\n",
    "in to the spreadsheet'''\n",
    "import openpyxl as op\n",
    "import os\n",
    "\n",
    "\n",
    "def read_data(filename, sheet_name):\n",
    "    workbook = op.load_workbook(filename)\n",
    "    sheet = workbook[sheet_name]\n",
    "\n",
    "    print(\"Data read form the sheet: \")\n",
    "    for row in sheet.iter_rows(min_row = 2, values_only = True):\n",
    "        print(row)\n",
    "\n",
    "\n",
    "\n",
    "def write_data(filename, sheet_name, new_data):\n",
    "    workbook = op.load_workbook(filename)\n",
    "    sheet = workbook[sheet_name]\n",
    "\n",
    "    for row in new_data:\n",
    "        print(row)\n",
    "        sheet.append(row)\n",
    "\n",
    "    workbook.save(filename)\n",
    "    print(\"New Data written into the spreadsheet.\")\n",
    "\n",
    "input_file = input(\"enter the data file path: \")\n",
    "output_file = input(\"enter the output file path: \")\n",
    "sheet_name = 'Sheet1'\n",
    "\n",
    "data = read_data(input_file, sheet_name)\n",
    "\n",
    "print('-'*30)\n",
    "new_data = [\n",
    "    (\"Sathwik\", 85),\n",
    "    (\"Shravani\", 42),\n",
    "    (\"Yashas\", 184)\n",
    "]\n",
    "write_data(output_file, sheet_name, new_data)"
   ]
  },
  {
   "cell_type": "code",
   "execution_count": null,
   "id": "a5cab2e8-a0e7-4527-93c0-1c065de5fc1e",
   "metadata": {},
   "outputs": [],
   "source": []
  }
 ],
 "metadata": {
  "kernelspec": {
   "display_name": "venv1kernel",
   "language": "python",
   "name": "venv1kernel"
  },
  "language_info": {
   "codemirror_mode": {
    "name": "ipython",
    "version": 3
   },
   "file_extension": ".py",
   "mimetype": "text/x-python",
   "name": "python",
   "nbconvert_exporter": "python",
   "pygments_lexer": "ipython3",
   "version": "3.11.3"
  }
 },
 "nbformat": 4,
 "nbformat_minor": 5
}
