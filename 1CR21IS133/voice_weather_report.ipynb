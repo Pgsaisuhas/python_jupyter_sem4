{
 "cells": [
  {
   "cell_type": "code",
   "execution_count": 3,
   "id": "e5ad4ebb-185a-4d23-a1db-a0a023f226bb",
   "metadata": {},
   "outputs": [
    {
     "name": "stdin",
     "output_type": "stream",
     "text": [
      "Enter the name of the city\n",
      " bangalore\n"
     ]
    },
    {
     "data": {
      "text/plain": [
       "1"
      ]
     },
     "execution_count": 3,
     "metadata": {},
     "output_type": "execute_result"
    }
   ],
   "source": [
    "import json\n",
    "\n",
    "import requests\n",
    "import win32com.client\n",
    "\n",
    "city = input(\"Enter the name of the city\\n\")\n",
    "\n",
    "url = f\"https://api.weatherapi.com/v1/current.json?key=d3ca2bdf038e4083a73172010232703&q={city}\"\n",
    "\n",
    "r = requests.get(url)\n",
    "# print(r.text)\n",
    "wedict = json.loads(r.text)\n",
    "x = wedict[\"current\"][\"temp_c\"]\n",
    "y = wedict[\"current\"]['humidity']\n",
    "z = wedict[\"current\"][\"pressure_mb\"]\n",
    "a = wedict[\"current\"][\"condition\"][\"text\"]\n",
    "speaker = win32com.client.Dispatch(\"SAPI.SpVoice\")\n",
    "\n",
    "speaker.Speak(f\"The current temperature in {city} is {x} degree celsius;  the humidity is {y}%; the pressure is {z}; and currently it is {a}.\")"
   ]
  },
  {
   "cell_type": "code",
   "execution_count": null,
   "id": "44659b6b-790c-4c84-9540-96c02b363737",
   "metadata": {},
   "outputs": [],
   "source": []
  }
 ],
 "metadata": {
  "kernelspec": {
   "display_name": "Python 3 (ipykernel)",
   "language": "python",
   "name": "python3"
  },
  "language_info": {
   "codemirror_mode": {
    "name": "ipython",
    "version": 3
   },
   "file_extension": ".py",
   "mimetype": "text/x-python",
   "name": "python",
   "nbconvert_exporter": "python",
   "pygments_lexer": "ipython3",
   "version": "3.11.3"
  }
 },
 "nbformat": 4,
 "nbformat_minor": 5
}
