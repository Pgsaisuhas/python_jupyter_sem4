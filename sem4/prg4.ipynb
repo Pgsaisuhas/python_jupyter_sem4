{
 "cells": [
  {
   "cell_type": "code",
   "execution_count": 3,
   "id": "19ec585a-dbab-4007-8069-b10eead19c91",
   "metadata": {},
   "outputs": [
    {
     "name": "stdin",
     "output_type": "stream",
     "text": [
      " 7 6 3 2 9 8\n"
     ]
    },
    {
     "name": "stdout",
     "output_type": "stream",
     "text": [
      "[7, 6, 3, 2, 9, 8]\n",
      "[6, 7, 3, 2, 9, 8]\n",
      "[3, 6, 7, 2, 9, 8]\n",
      "[2, 3, 6, 7, 9, 8]\n",
      "[2, 3, 6, 7, 9, 8]\n",
      "[2, 3, 6, 7, 8, 9]\n",
      "Sorted array using Insertion Sort: [2, 3, 6, 7, 8, 9]\n"
     ]
    }
   ],
   "source": [
    "'''4ai) Write a python program to implement insertion sort and merge sort using lists'''\n",
    "\n",
    "arr = list(map(int, input().split()))\n",
    "print(arr)\n",
    "def insertion_sort(arr):\n",
    "    for i in range(1, len(arr)):\n",
    "        key = arr[i]\n",
    "        j = i - 1\n",
    "        while j >= 0 and key < arr[j]:\n",
    "            arr[j + 1] = arr[j]\n",
    "            j -= 1\n",
    "        arr[j + 1] = key\n",
    "        print(arr)\n",
    "\n",
    "insertion_sort(arr)\n",
    "print(\"Sorted array using Insertion Sort:\", arr)\n",
    "\n",
    "\n",
    "\n"
   ]
  },
  {
   "cell_type": "code",
   "execution_count": 9,
   "id": "bc2de193-d2d6-467c-a683-dff8137fba92",
   "metadata": {},
   "outputs": [
    {
     "name": "stdin",
     "output_type": "stream",
     "text": [
      " 7 6 3 2 9 8\n"
     ]
    },
    {
     "name": "stdout",
     "output_type": "stream",
     "text": [
      "[7, 6, 3, 2, 9, 8]\n",
      "[6, 6, 3, 2, 9, 8]\n",
      "[6, 7, 3, 2, 9, 8]\n",
      "[3, 7, 3, 2, 9, 8]\n",
      "[3, 6, 3, 2, 9, 8]\n",
      "[3, 6, 7, 2, 9, 8]\n",
      "[3, 6, 7, 2, 9, 8]\n",
      "[3, 6, 7, 2, 9, 8]\n",
      "[3, 6, 7, 2, 9, 8]\n",
      "[3, 6, 7, 2, 8, 8]\n",
      "[3, 6, 7, 2, 8, 9]\n",
      "[2, 6, 7, 2, 8, 9]\n",
      "[2, 3, 7, 2, 8, 9]\n",
      "[2, 3, 6, 2, 8, 9]\n",
      "[2, 3, 6, 7, 8, 9]\n",
      "[2, 3, 6, 7, 8, 9]\n",
      "[2, 3, 6, 7, 8, 9]\n",
      "Sorted array using Merge Sort: [2, 3, 6, 7, 8, 9]\n"
     ]
    }
   ],
   "source": [
    "'''4aii) Write a python program to implement insertion sort and merge sort using lists'''\n",
    "\n",
    "arr = list(map(int, input().split()))\n",
    "print(arr)\n",
    "\n",
    "def divide(arr, si, ei):\n",
    "    if(si>=ei):\n",
    "        return\n",
    "    mid = si + (ei-si)//2\n",
    "    divide(arr, si, mid)\n",
    "    divide(arr, mid+1, ei)\n",
    "    merge(arr, si, mid, ei)\n",
    "\n",
    "\n",
    "def merge(arr, si, mid, ei):\n",
    "    merged = []\n",
    "    idx1 = si\n",
    "    idx2 = mid+1\n",
    "\n",
    "    while(idx1<=mid and idx2<=ei):\n",
    "        if arr[idx1] < arr[idx2]:\n",
    "            merged.append(arr[idx1])\n",
    "            idx1 += 1\n",
    "        else:\n",
    "            merged.append(arr[idx2])\n",
    "            idx2 += 1\n",
    "\n",
    "    while(idx1<=mid):\n",
    "        merged.append(arr[idx1])\n",
    "        idx1 += 1\n",
    "\n",
    "    while(idx2<=ei):\n",
    "        merged.append(arr[idx2])\n",
    "        idx2 += 1\n",
    "\n",
    "    for i in range(len(merged)):\n",
    "        arr[si+i] = merged[i]\n",
    "        print(arr)\n",
    "\n",
    "divide(arr, 0, len(arr)-1)\n",
    "print(\"Sorted array using Merge Sort:\", arr)\n",
    "\n"
   ]
  },
  {
   "cell_type": "code",
   "execution_count": 3,
   "id": "abbbc6c1-a1cb-430c-8fce-40f4e7ef34d1",
   "metadata": {},
   "outputs": [
    {
     "name": "stdin",
     "output_type": "stream",
     "text": [
      "Enter a Roman number:  mdx\n"
     ]
    },
    {
     "name": "stdout",
     "output_type": "stream",
     "text": [
      "The integer value of MDX is: 1510\n"
     ]
    }
   ],
   "source": [
    "'''Write a program to convert roman numbers in to integer values using dictionaries.'''\n",
    "\n",
    "def roman_to_integer(roman):\n",
    "    roman_numbers = {\n",
    "        'I': 1,\n",
    "        'V': 5,\n",
    "        'X': 10,\n",
    "        'L': 50,\n",
    "        'C': 100,\n",
    "        'D': 500,\n",
    "        'M': 1000,\n",
    "    }\n",
    "\n",
    "    tot = 0\n",
    "    pre = 0\n",
    "    for numbers in reversed(roman):\n",
    "        value = roman_numbers[numbers]\n",
    "\n",
    "        if value < pre:\n",
    "            tot -= value\n",
    "        else:\n",
    "            tot += value\n",
    "\n",
    "        pre = value\n",
    "\n",
    "    return tot\n",
    "\n",
    "roman = input(\"Enter a Roman number: \").upper()\n",
    "print(f\"The integer value of {roman} is: {roman_to_integer(roman)}\")"
   ]
  },
  {
   "cell_type": "code",
   "execution_count": null,
   "id": "b360c409-471d-44f0-9ba6-1d485b47ed71",
   "metadata": {},
   "outputs": [],
   "source": []
  }
 ],
 "metadata": {
  "kernelspec": {
   "display_name": "Python 3 (ipykernel)",
   "language": "python",
   "name": "python3"
  },
  "language_info": {
   "codemirror_mode": {
    "name": "ipython",
    "version": 3
   },
   "file_extension": ".py",
   "mimetype": "text/x-python",
   "name": "python",
   "nbconvert_exporter": "python",
   "pygments_lexer": "ipython3",
   "version": "3.11.3"
  }
 },
 "nbformat": 4,
 "nbformat_minor": 5
}
