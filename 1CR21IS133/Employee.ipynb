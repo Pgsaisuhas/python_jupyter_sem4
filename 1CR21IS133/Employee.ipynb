{
 "cells": [
  {
   "cell_type": "code",
   "execution_count": 2,
   "id": "7fac487c-5306-4ea4-90cd-96bb722b2d41",
   "metadata": {},
   "outputs": [
    {
     "name": "stdout",
     "output_type": "stream",
     "text": [
      "1. Add Employee\n",
      "2. Update Department Salary\n",
      "3. Display All Employees\n",
      "4. Exit\n"
     ]
    },
    {
     "name": "stdin",
     "output_type": "stream",
     "text": [
      "Enter your choice:  1\n"
     ]
    },
    {
     "name": "stdout",
     "output_type": "stream",
     "text": [
      "\n"
     ]
    },
    {
     "name": "stdin",
     "output_type": "stream",
     "text": [
      "\n",
      "Enter employee name:  Sai Suhas P G\n",
      "Enter employee ID:  133\n",
      "Enter department:  ISE\n",
      "Enter salary:  50000\n"
     ]
    },
    {
     "name": "stdout",
     "output_type": "stream",
     "text": [
      "Employee added successfully!\n",
      "\n",
      "1. Add Employee\n",
      "2. Update Department Salary\n",
      "3. Display All Employees\n",
      "4. Exit\n"
     ]
    },
    {
     "name": "stdin",
     "output_type": "stream",
     "text": [
      "Enter your choice:  1\n"
     ]
    },
    {
     "name": "stdout",
     "output_type": "stream",
     "text": [
      "\n"
     ]
    },
    {
     "name": "stdin",
     "output_type": "stream",
     "text": [
      "\n",
      "Enter employee name:  Anirudh\n",
      "Enter employee ID:  002\n",
      "Enter department:  CSE\n",
      "Enter salary:  75000\n"
     ]
    },
    {
     "name": "stdout",
     "output_type": "stream",
     "text": [
      "Employee added successfully!\n",
      "\n",
      "1. Add Employee\n",
      "2. Update Department Salary\n",
      "3. Display All Employees\n",
      "4. Exit\n"
     ]
    },
    {
     "name": "stdin",
     "output_type": "stream",
     "text": [
      "Enter your choice:  3\n"
     ]
    },
    {
     "name": "stdout",
     "output_type": "stream",
     "text": [
      "\n",
      "All Employees:\n",
      "------------------------------\n",
      "------------------------------\n",
      "\n",
      "Employee ID: 133\n",
      "Name: Sai Suhas P G\n",
      "Department: ISE\n",
      "Salary: 50000.0\n",
      "\n",
      "\n",
      "------------------------------\n",
      "\n",
      "Employee ID: 2\n",
      "Name: Anirudh\n",
      "Department: CSE\n",
      "Salary: 75000.0\n",
      "\n",
      "\n",
      "------------------------------\n",
      "1. Add Employee\n",
      "2. Update Department Salary\n",
      "3. Display All Employees\n",
      "4. Exit\n"
     ]
    },
    {
     "name": "stdin",
     "output_type": "stream",
     "text": [
      "Enter your choice:  2\n"
     ]
    },
    {
     "name": "stdout",
     "output_type": "stream",
     "text": [
      "\n"
     ]
    },
    {
     "name": "stdin",
     "output_type": "stream",
     "text": [
      "Enter department to update salary for:  ISE\n",
      "Enter new salary:  75000\n"
     ]
    },
    {
     "name": "stdout",
     "output_type": "stream",
     "text": [
      "Salary for employees in 'ISE' department updated!\n",
      "1. Add Employee\n",
      "2. Update Department Salary\n",
      "3. Display All Employees\n",
      "4. Exit\n"
     ]
    },
    {
     "name": "stdin",
     "output_type": "stream",
     "text": [
      "Enter your choice:  3\n"
     ]
    },
    {
     "name": "stdout",
     "output_type": "stream",
     "text": [
      "\n",
      "All Employees:\n",
      "------------------------------\n",
      "------------------------------\n",
      "\n",
      "Employee ID: 133\n",
      "Name: Sai Suhas P G\n",
      "Department: ISE\n",
      "Salary: 75000.0\n",
      "\n",
      "\n",
      "------------------------------\n",
      "\n",
      "Employee ID: 2\n",
      "Name: Anirudh\n",
      "Department: CSE\n",
      "Salary: 75000.0\n",
      "\n",
      "\n",
      "------------------------------\n",
      "1. Add Employee\n",
      "2. Update Department Salary\n",
      "3. Display All Employees\n",
      "4. Exit\n"
     ]
    },
    {
     "name": "stdin",
     "output_type": "stream",
     "text": [
      "Enter your choice:  4\n"
     ]
    },
    {
     "name": "stdout",
     "output_type": "stream",
     "text": [
      "\n",
      "Exiting the program.\n"
     ]
    }
   ],
   "source": [
    "class Employee:\n",
    "    def __init__(self, name, employee_id, department, salary):\n",
    "        self.name = name\n",
    "        self.employee_id = employee_id\n",
    "        self.department = department\n",
    "        self.salary = salary\n",
    "\n",
    "    def update_salary(self, new_salary):\n",
    "        self.salary = new_salary\n",
    "\n",
    "    def __str__(self):\n",
    "        print('-' * 30)\n",
    "        return f\"\\nEmployee ID: {self.employee_id}\\nName: {self.name}\\nDepartment: {self.department}\\nSalary: {self.salary}\\n\\n\"\n",
    "\n",
    "\n",
    "class EmployeeDatabase:\n",
    "    def __init__(self):\n",
    "        self.employees = []\n",
    "\n",
    "    def add_employee(self, employee):\n",
    "        self.employees.append(employee)\n",
    "\n",
    "    def update_department_salary(self, department, new_salary):\n",
    "        for employee in self.employees:\n",
    "            if employee.department == department:\n",
    "                employee.update_salary(new_salary)\n",
    "\n",
    "    def display_all_employees(self):\n",
    "        for employee in self.employees:\n",
    "            print(employee)\n",
    "        print(\"-\" * 30)\n",
    "\n",
    "\n",
    "# Creating employee database\n",
    "employee_db = EmployeeDatabase()\n",
    "\n",
    "while True:\n",
    "    print(\"1. Add Employee\")\n",
    "    print(\"2. Update Department Salary\")\n",
    "    print(\"3. Display All Employees\")\n",
    "    print(\"4. Exit\")\n",
    "    choice = input(\"Enter your choice: \")\n",
    "    print()\n",
    "    if choice == \"1\":\n",
    "        name = input(\"\\nEnter employee name: \")\n",
    "        employee_id = int(input(\"Enter employee ID: \"))\n",
    "        department = input(\"Enter department: \")\n",
    "        salary = float(input(\"Enter salary: \"))\n",
    "        employee = Employee(name, employee_id, department, salary)\n",
    "        employee_db.add_employee(employee)\n",
    "        print(\"Employee added successfully!\\n\")\n",
    "    elif choice == \"2\":\n",
    "        department = input(\"Enter department to update salary for: \")\n",
    "        new_salary = float(input(\"Enter new salary: \"))\n",
    "        employee_db.update_department_salary(department, new_salary)\n",
    "        print(f\"Salary for employees in '{department}' department updated!\")\n",
    "    elif choice == \"3\":\n",
    "        print(\"All Employees:\")\n",
    "        employee_db.display_all_employees()\n",
    "    elif choice == \"4\":\n",
    "        print(\"Exiting the program.\")\n",
    "        break\n",
    "    else:\n",
    "        print(\"Invalid choice. Please select a valid option.\")"
   ]
  },
  {
   "cell_type": "code",
   "execution_count": null,
   "id": "d548a588-9479-4eb3-b59e-e1092d40db29",
   "metadata": {},
   "outputs": [],
   "source": []
  }
 ],
 "metadata": {
  "kernelspec": {
   "display_name": "Python 3 (ipykernel)",
   "language": "python",
   "name": "python3"
  },
  "language_info": {
   "codemirror_mode": {
    "name": "ipython",
    "version": 3
   },
   "file_extension": ".py",
   "mimetype": "text/x-python",
   "name": "python",
   "nbconvert_exporter": "python",
   "pygments_lexer": "ipython3",
   "version": "3.11.3"
  }
 },
 "nbformat": 4,
 "nbformat_minor": 5
}
