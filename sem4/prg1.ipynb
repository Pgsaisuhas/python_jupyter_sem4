{
 "cells": [
  {
   "cell_type": "code",
   "execution_count": 25,
   "id": "d60f63b8-1f0d-47e0-b6e9-1d53635d736e",
   "metadata": {},
   "outputs": [
    {
     "name": "stdin",
     "output_type": "stream",
     "text": [
      "Enter test 1 marks:  55\n",
      "Enter test 2 marks:  65\n",
      "Enter test 3 marks:  75\n"
     ]
    },
    {
     "name": "stdout",
     "output_type": "stream",
     "text": [
      "best avg is: 70.0\n"
     ]
    }
   ],
   "source": [
    "'''1a) Write a python program to find the best of two test average marks out of three test’s\n",
    "marks accepted from the user'''\n",
    "test1 = int(input(\"Enter test 1 marks: \"))\n",
    "test2 = int(input(\"Enter test 2 marks: \"))\n",
    "test3 = int(input(\"Enter test 3 marks: \"))\n",
    "\n",
    "\n",
    "# def best_avg(t1, t2, t3):\n",
    "#     sum = 0\n",
    "#     if(t1>t3 and t2>t3):\n",
    "#         sum = t1+t2\n",
    "#     elif(t1>t2 and t3> t2):\n",
    "#         sum = t1+t3\n",
    "#     else:\n",
    "#         sum = t2+t3\n",
    "#     return sum/2\n",
    "\n",
    "def best_avg(t1,t2,t3):\n",
    "    tot = t1+t2+t3\n",
    "    s = min(t1,t2,t3)\n",
    "    return (tot-s)/2\n",
    "    \n",
    "\n",
    "avg = best_avg(test1, test2, test3)\n",
    "\n",
    "print(f\"best avg is: {avg}\")\n",
    "            \n",
    "        "
   ]
  },
  {
   "cell_type": "code",
   "execution_count": null,
   "id": "9251a287-ee22-461b-af66-81bbc6418cf0",
   "metadata": {},
   "outputs": [],
   "source": [
    "'''1b) Develop a Python program to check whether a given number is palindrome or not and\n",
    "also count the number of occurrences of each digit in the input number'''\n",
    "\n",
    "number = input()\n",
    "\n",
    "def isPalindrome(number):\n",
    "    if(number.isdigit() and (number == number[::-1])):\n",
    "        print(f\"{number} is a palindrome.\")\n",
    "    else:\n",
    "        print(f\"{number} is not a palindrome.\")\n",
    "\n",
    "\n",
    "def occ(number):\n",
    "    list = []\n",
    "    for i in number:\n",
    "        if i not in list:\n",
    "            list.append(i)\n",
    "    for i in range(len(list)):\n",
    "        \n",
    "        print(f\"{i} occurs {number.count(i)} times\")\n",
    "\n",
    "isPalindrome(number)\n",
    "occ(number)\n",
    "    \n",
    "    "
   ]
  },
  {
   "cell_type": "code",
   "execution_count": null,
   "id": "b8f7fd92-466f-439b-9b07-d9aebe7ff116",
   "metadata": {},
   "outputs": [],
   "source": []
  }
 ],
 "metadata": {
  "kernelspec": {
   "display_name": "venv1kernel",
   "language": "python",
   "name": "venv1kernel"
  },
  "language_info": {
   "codemirror_mode": {
    "name": "ipython",
    "version": 3
   },
   "file_extension": ".py",
   "mimetype": "text/x-python",
   "name": "python",
   "nbconvert_exporter": "python",
   "pygments_lexer": "ipython3",
   "version": "3.11.3"
  }
 },
 "nbformat": 4,
 "nbformat_minor": 5
}
