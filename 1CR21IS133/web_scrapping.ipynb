{
 "cells": [
  {
   "cell_type": "code",
   "execution_count": 1,
   "id": "65e24651-50c8-41bb-8f66-8f3e42df111a",
   "metadata": {},
   "outputs": [
    {
     "name": "stdout",
     "output_type": "stream",
     "text": [
      "Defaulting to user installation because normal site-packages is not writeable\n",
      "Requirement already satisfied: requests in c:\\users\\harshitha\\appdata\\roaming\\python\\python311\\site-packages (2.28.1)\n",
      "Requirement already satisfied: charset-normalizer<3,>=2 in c:\\users\\harshitha\\appdata\\roaming\\python\\python311\\site-packages (from requests) (2.1.1)\n",
      "Requirement already satisfied: idna<4,>=2.5 in c:\\users\\harshitha\\appdata\\roaming\\python\\python311\\site-packages (from requests) (3.4)\n",
      "Requirement already satisfied: urllib3<1.27,>=1.21.1 in c:\\users\\harshitha\\appdata\\roaming\\python\\python311\\site-packages (from requests) (1.26.13)\n",
      "Requirement already satisfied: certifi>=2017.4.17 in c:\\users\\harshitha\\appdata\\roaming\\python\\python311\\site-packages (from requests) (2022.12.7)\n",
      "Note: you may need to restart the kernel to use updated packages.\n"
     ]
    }
   ],
   "source": [
    "pip install requests\n"
   ]
  },
  {
   "cell_type": "code",
   "execution_count": 2,
   "id": "89546431-644b-4b88-8fcd-c51772efd3d4",
   "metadata": {},
   "outputs": [
    {
     "name": "stdout",
     "output_type": "stream",
     "text": [
      "Defaulting to user installation because normal site-packages is not writeable\n",
      "Collecting bs4\n",
      "  Downloading bs4-0.0.1.tar.gz (1.1 kB)\n",
      "  Installing build dependencies: started\n",
      "  Installing build dependencies: finished with status 'done'\n",
      "  Getting requirements to build wheel: started\n",
      "  Getting requirements to build wheel: finished with status 'done'\n",
      "  Preparing metadata (pyproject.toml): started\n",
      "  Preparing metadata (pyproject.toml): finished with status 'done'\n",
      "Requirement already satisfied: beautifulsoup4 in c:\\users\\harshitha\\appdata\\roaming\\python\\python311\\site-packages (from bs4) (4.12.2)\n",
      "Requirement already satisfied: soupsieve>1.2 in c:\\users\\harshitha\\appdata\\roaming\\python\\python311\\site-packages (from beautifulsoup4->bs4) (2.5)\n",
      "Building wheels for collected packages: bs4\n",
      "  Building wheel for bs4 (pyproject.toml): started\n",
      "  Building wheel for bs4 (pyproject.toml): finished with status 'done'\n",
      "  Created wheel for bs4: filename=bs4-0.0.1-py3-none-any.whl size=1265 sha256=ab46e9e79eb218c3b0f18720d97513c4db9c8a3bde2a4a12be265b24f0674189\n",
      "  Stored in directory: c:\\users\\harshitha\\appdata\\local\\pip\\cache\\wheels\\d4\\c8\\5b\\b5be9c20e5e4503d04a6eac8a3cd5c2393505c29f02bea0960\n",
      "Successfully built bs4\n",
      "Installing collected packages: bs4\n",
      "Successfully installed bs4-0.0.1\n",
      "Note: you may need to restart the kernel to use updated packages.\n"
     ]
    }
   ],
   "source": [
    "pip install bs4\n"
   ]
  },
  {
   "cell_type": "code",
   "execution_count": 6,
   "id": "c804fd95-e05c-4e31-98f3-194032ff4df2",
   "metadata": {},
   "outputs": [
    {
     "name": "stdout",
     "output_type": "stream",
     "text": [
      "Downloaded: barrel_cropped_(1).jpg\n",
      "Downloaded: tree_cropped_(1).jpg\n",
      "Downloaded: island_color.jpg\n",
      "Downloaded: landscape_cropped_(1).jpg\n",
      "Downloaded: blownapart_color.jpg\n",
      "count comics download!\n"
     ]
    }
   ],
   "source": [
    "import os\n",
    "import requests as rq\n",
    "from bs4 import BeautifulSoup as bs\n",
    "import urllib.parse as up\n",
    "\n",
    "save_dir = \"comics\"\n",
    "\n",
    "if not os.path.exists(save_dir):\n",
    "    os.makedirs(save_dir)\n",
    "\n",
    "\n",
    "base_url = \"https://xkcd.com\"\n",
    "\n",
    "def download_comic(comic_url):\n",
    "    response = rq.get(comic_url)\n",
    "    if response.status_code == 200:\n",
    "        soup = bs(response.content, \"html.parser\")\n",
    "        comic_elm = soup.find(\"div\", id=\"comic\")\n",
    "        if comic_elm:\n",
    "            img_elm  = comic_elm.find(\"img\")\n",
    "            if img_elm and \"src\"  in img_elm.attrs:\n",
    "                img_url = img_elm[\"src\"]\n",
    "                img_url = up.urljoin(base_url, img_url)\n",
    "                img_response = rq.get(img_url)\n",
    "                if img_response.status_code == 200:\n",
    "                    img_name = img_url.split(\"/\")[-1]\n",
    "                    img_path = os.path.join(save_dir, img_name)\n",
    "                    with open(img_path, \"wb\") as img_file:\n",
    "                        img_file.write(img_response.content)\n",
    "                    print(f\"Downloaded: {img_name}\")\n",
    "                else:\n",
    "                    print(f\"Failed to download: {img_url}\")\n",
    "            else:\n",
    "                print(\"Image not found in the comic element\")\n",
    "        else:\n",
    "            print(\"Comic not found\")\n",
    "    else:\n",
    "        print(f\"Failed to fetch the comic url: {comic_url}\")\n",
    "\n",
    "count = 0\n",
    "for comic_num in range(1,6):\n",
    "    comic_url = f\"{base_url}/{comic_num}/\"\n",
    "    download_comic(comic_url)\n",
    "    count += 1\n",
    "\n",
    "print(f\"count comics download!\")\n"
   ]
  },
  {
   "cell_type": "code",
   "execution_count": null,
   "id": "a32cfd95-bda4-487a-b829-763d528d21fb",
   "metadata": {},
   "outputs": [],
   "source": []
  },
  {
   "cell_type": "code",
   "execution_count": null,
   "id": "7723d167-7d37-4a75-be3e-e1aa2405a0d3",
   "metadata": {},
   "outputs": [],
   "source": []
  }
 ],
 "metadata": {
  "kernelspec": {
   "display_name": "Python 3 (ipykernel)",
   "language": "python",
   "name": "python3"
  },
  "language_info": {
   "codemirror_mode": {
    "name": "ipython",
    "version": 3
   },
   "file_extension": ".py",
   "mimetype": "text/x-python",
   "name": "python",
   "nbconvert_exporter": "python",
   "pygments_lexer": "ipython3",
   "version": "3.11.3"
  }
 },
 "nbformat": 4,
 "nbformat_minor": 5
}
