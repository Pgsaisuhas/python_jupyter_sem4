{
 "cells": [
  {
   "cell_type": "code",
   "execution_count": 1,
   "id": "8aef333f-cd92-4c95-9c7c-7bf8d5be4b93",
   "metadata": {},
   "outputs": [
    {
     "name": "stdout",
     "output_type": "stream",
     "text": [
      "Defaulting to user installation because normal site-packages is not writeable\n",
      "Requirement already satisfied: PyPDF2 in c:\\users\\harshitha\\appdata\\roaming\\python\\python311\\site-packages (3.0.1)\n",
      "Note: you may need to restart the kernel to use updated packages.\n"
     ]
    }
   ],
   "source": [
    "pip install PyPDF2"
   ]
  },
  {
   "cell_type": "code",
   "execution_count": 4,
   "id": "ba25e52f-02b4-455b-beca-bc80f10b5423",
   "metadata": {},
   "outputs": [
    {
     "name": "stdin",
     "output_type": "stream",
     "text": [
      "Enter the page range to extract from 'BMTC.pdf' (e.g., '1-3'):  1\n",
      "Enter the page range to extract from 'combined_pages.pdf' (e.g., '1-3'):  2\n"
     ]
    }
   ],
   "source": [
    "from PyPDF2 import PdfWriter, PdfReader\n",
    "\n",
    "def combine_pages_from_pdfs(pdf_files, page_ranges):\n",
    "    pdf_writer = PdfWriter()\n",
    "\n",
    "    for i in range(len(pdf_files)):\n",
    "        pdf_file = pdf_files[i]\n",
    "        with open(pdf_file, 'rb') as pdf:\n",
    "            pdf_reader = PdfReader(pdf)\n",
    "            num_pages = len(pdf_reader.pages)\n",
    "            if i < len(page_ranges):\n",
    "                page_range = page_ranges[i]\n",
    "                for page_number in page_range:\n",
    "                    if 1 <= page_number <= num_pages:\n",
    "                        page = pdf_reader.pages[page_number - 1]\n",
    "                        pdf_writer.add_page(page)\n",
    "\n",
    "\n",
    "    return pdf_writer\n",
    "\n",
    "def main():\n",
    "    pdf_files = ['BMTC.pdf', 'combined_pages.pdf']  # Add more PDF file paths as needed\n",
    "    num_pdfs = len(pdf_files)\n",
    "\n",
    "    page_ranges = []\n",
    "    for i in range(num_pdfs):\n",
    "        page_range_str = input(f\"Enter the page range to extract from '{pdf_files[i]}' (e.g., '1-3'): \")\n",
    "        page_range = [int(page) for page in page_range_str.split('-')]\n",
    "        page_ranges.append(page_range)\n",
    "\n",
    "    pdf_writer = combine_pages_from_pdfs(pdf_files, page_ranges)\n",
    "\n",
    "    with open('output.pdf', 'wb') as output:\n",
    "        pdf_writer.write(output)\n",
    "\n",
    "if __name__ == \"__main__\":\n",
    "    main()\n"
   ]
  },
  {
   "cell_type": "code",
   "execution_count": 6,
   "id": "b652d579-da60-4783-a323-35323ba791be",
   "metadata": {},
   "outputs": [
    {
     "name": "stdin",
     "output_type": "stream",
     "text": [
      "Enter the city:  Bangalore\n"
     ]
    },
    {
     "name": "stdout",
     "output_type": "stream",
     "text": [
      "----------Bangalore-----------\n",
      "The temparature is 295.95\n",
      "the pressure is 1016\n",
      "The humidity is 88\n",
      "The weather is broken clouds\n"
     ]
    }
   ],
   "source": [
    "import requests as r\n",
    "import json\n",
    "\n",
    "BASE_URL = 'https://api.openweathermap.org/data/2.5/weather?'\n",
    "city = input(\"Enter the city: \")\n",
    "api = '7bdccf825b7dd119a05ac2e0afaf1aaa'\n",
    "\n",
    "URL  = BASE_URL + 'q=' + city + '&appid='+api\n",
    "\n",
    "res = r.get(URL)\n",
    "\n",
    "if res.status_code == 200:\n",
    "    data = res.json()\n",
    "    temp = data['main']['temp']\n",
    "    pressure = data['main']['pressure']\n",
    "    humidity = data['main']['humidity']\n",
    "    report = data['weather']\n",
    "\n",
    "    print(f'{city:-^30}')\n",
    "    print(f'The temparature is {temp}')\n",
    "    print(f'the pressure is {pressure}')\n",
    "    print(f'The humidity is {humidity}')\n",
    "    print(f\"The weather is {report[0]['description']}\")\n",
    "\n",
    "else:\n",
    "    print(f\"Error {res.status_code} not found.\")"
   ]
  },
  {
   "cell_type": "code",
   "execution_count": null,
   "id": "f396121b-a027-4e49-82aa-7732cdbcaa90",
   "metadata": {},
   "outputs": [],
   "source": []
  }
 ],
 "metadata": {
  "kernelspec": {
   "display_name": "Python 3 (ipykernel)",
   "language": "python",
   "name": "python3"
  },
  "language_info": {
   "codemirror_mode": {
    "name": "ipython",
    "version": 3
   },
   "file_extension": ".py",
   "mimetype": "text/x-python",
   "name": "python",
   "nbconvert_exporter": "python",
   "pygments_lexer": "ipython3",
   "version": "3.11.3"
  }
 },
 "nbformat": 4,
 "nbformat_minor": 5
}
